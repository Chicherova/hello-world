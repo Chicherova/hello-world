{
 "cells": [
  {
   "cell_type": "markdown",
   "metadata": {},
   "source": [
    "## Описание задания\n",
    "\n",
    "#### Описание задания\n",
    "\n",
    "А/А-тестирование мобильного приложения. Необходимо посчитать результаты A/A-теста, проверяя метрику качества FPR (будем проверять на конверсии в покупку). Известно, что сплит-система сломана. Требуется проверить утверждение о поломке и найти ее причины, если сплит-система действительно сломана\n",
    "\n",
    " \n",
    "\n",
    "#### Описание колонок\n",
    "experimentVariant – вариант эксперимента,\n",
    "version – версия приложения,\n",
    "purchase – факт покупки\n",
    " \n",
    "\n",
    "### Задача\n",
    "Запустите A/A-тест\n",
    "Посчитайте FPR на уровне альфа = 0.05 (ставьте подвыборки без возвращения объемом 1000). Вы увидите, что FPR >  альфа! Нам нужно наоборот – чтобы было меньше.\n",
    "Найдите причины поломки сплит-системы, ориентируясь на результаты эксперимента (подсказка: найдите аномалию в версии приложения)\n",
    "Напишите выводы, которые можно сделать на основе анализа результатов A/A-теста"
   ]
  },
  {
   "cell_type": "markdown",
   "metadata": {},
   "source": [
    "### План решения\n",
    "\n",
    "1. Произведем предобработку данных\n",
    "2. Посчитаем конверсию (коэффициент покупок), сгруппировав данные по версии мобильного приложения (МП) и по вариану эксперемента\n",
    "3. Посчитаем p-value для каждой версии МП\n",
    "4. FPR (False Positive Rate) > альфа (0.05)! Нам нужно наоборот – чтобы было меньше. Исключаем из основного ДатаФрейма\n",
    "5. Произведем повторные расчёты FPR\n",
    "6. Вы находитесь здесь : Поломка найдена!\n",
    "7. Результаты, выводы\n"
   ]
  },
  {
   "cell_type": "code",
   "execution_count": 1,
   "metadata": {},
   "outputs": [],
   "source": [
    "import numpy as np\n",
    "import pandas as pd\n",
    "from scipy.stats import norm, mannwhitneyu\n",
    "from scipy import stats\n",
    "import matplotlib.pyplot as plt\n",
    "\n",
    "from tqdm.auto import tqdm\n",
    "\n",
    "\n",
    "plt.style.use('ggplot')"
   ]
  },
  {
   "cell_type": "code",
   "execution_count": 2,
   "metadata": {},
   "outputs": [],
   "source": [
    "df = pd.read_csv('/home/jupyter-a.chicherova-13/STATISTIC/10/hw_aa.csv', sep=';')"
   ]
  },
  {
   "cell_type": "markdown",
   "metadata": {},
   "source": [
    "### Шаг 1\n",
    "Проведем предобработку данных\n"
   ]
  },
  {
   "cell_type": "code",
   "execution_count": 3,
   "metadata": {},
   "outputs": [
    {
     "data": {
      "text/plain": [
       "Unnamed: 0           0\n",
       "uid                  0\n",
       "experimentVariant    0\n",
       "version              0\n",
       "purchase             0\n",
       "dtype: int64"
      ]
     },
     "execution_count": 3,
     "metadata": {},
     "output_type": "execute_result"
    }
   ],
   "source": [
    "df.isna().sum()"
   ]
  },
  {
   "cell_type": "code",
   "execution_count": 4,
   "metadata": {
    "scrolled": true
   },
   "outputs": [
    {
     "data": {
      "text/plain": [
       "Unnamed: 0            int64\n",
       "uid                  object\n",
       "experimentVariant     int64\n",
       "version              object\n",
       "purchase              int64\n",
       "dtype: object"
      ]
     },
     "execution_count": 4,
     "metadata": {},
     "output_type": "execute_result"
    }
   ],
   "source": [
    "df.dtypes"
   ]
  },
  {
   "cell_type": "code",
   "execution_count": 5,
   "metadata": {},
   "outputs": [],
   "source": [
    "# Убедимся, что вообще нужно искать ошибку, проведя А/А тест на исходных данных"
   ]
  },
  {
   "cell_type": "code",
   "execution_count": 6,
   "metadata": {},
   "outputs": [
    {
     "data": {
      "application/vnd.jupyter.widget-view+json": {
       "model_id": "6027d9a8517944b881925f146fd72db2",
       "version_major": 2,
       "version_minor": 0
      },
      "text/plain": [
       "HBox(children=(FloatProgress(value=0.0, max=1000.0), HTML(value='')))"
      ]
     },
     "metadata": {},
     "output_type": "display_data"
    },
    {
     "name": "stdout",
     "output_type": "stream",
     "text": [
      "\n"
     ]
    },
    {
     "data": {
      "image/png": "[encoded data removed]",
      "text/plain": [
       "<Figure size 432x288 with 1 Axes>"
      ]
     },
     "metadata": {},
     "output_type": "display_data"
    },
    {
     "data": {
      "text/plain": [
       "0.945"
      ]
     },
     "execution_count": 6,
     "metadata": {},
     "output_type": "execute_result"
    }
   ],
   "source": [
    "\n",
    "# Запуск  A/A теста\n",
    "simulations = 1000\n",
    "n_s = 1000\n",
    "res = []\n",
    "for i in tqdm(range(simulations)):\n",
    "    s1 = df[df.experimentVariant == 1]['purchase'].sample(n_s, replace = False).values\n",
    "    s2 = df[df.experimentVariant == 0]['purchase'].sample(n_s, replace = False).values\n",
    "    res.append(stats.ttest_ind(s1, s2, equal_var = False)[1]) # сохраняем pvalue\n",
    "\n",
    "plt.hist(res, bins = 50)\n",
    "plt.style.use('ggplot')\n",
    "plt.xlabel('pvalues')\n",
    "plt.ylabel('frequency')\n",
    "plt.title(\"Histogram of ttest A/A simulations between experimentVariants\")\n",
    "plt.show()\n",
    "\n",
    "# Проверяем, что количество ложноположительных случаев не превышает альфа\n",
    "sum(np.array(res) <0.05) / simulations"
   ]
  },
  {
   "cell_type": "markdown",
   "metadata": {},
   "source": [
    "### Это наш случай - A/A-тест не сходится"
   ]
  },
  {
   "cell_type": "markdown",
   "metadata": {},
   "source": [
    "### Шаг 2\n",
    "Посчитаем конверсию (коэффициент покупок), сгруппировав данные по версии мобильного приложения (МП) и по вариану эксперемента\n"
   ]
  },
  {
   "cell_type": "code",
   "execution_count": 7,
   "metadata": {},
   "outputs": [
    {
     "data": {
      "text/html": [
       "<div>\n",
       "<style scoped>\n",
       "    .dataframe tbody tr th:only-of-type {\n",
       "        vertical-align: middle;\n",
       "    }\n",
       "\n",
       "    .dataframe tbody tr th {\n",
       "        vertical-align: top;\n",
       "    }\n",
       "\n",
       "    .dataframe thead th {\n",
       "        text-align: right;\n",
       "    }\n",
       "</style>\n",
       "<table border=\"1\" class=\"dataframe\">\n",
       "  <thead>\n",
       "    <tr style=\"text-align: right;\">\n",
       "      <th></th>\n",
       "      <th>version</th>\n",
       "      <th>experimentVariant</th>\n",
       "      <th>purchase</th>\n",
       "      <th>Unnamed: 0</th>\n",
       "    </tr>\n",
       "  </thead>\n",
       "  <tbody>\n",
       "    <tr>\n",
       "      <th>0</th>\n",
       "      <td>v2.8.0</td>\n",
       "      <td>0</td>\n",
       "      <td>0.000993</td>\n",
       "      <td>41283</td>\n",
       "    </tr>\n",
       "    <tr>\n",
       "      <th>1</th>\n",
       "      <td>v2.8.0</td>\n",
       "      <td>1</td>\n",
       "      <td>0.045606</td>\n",
       "      <td>41552</td>\n",
       "    </tr>\n",
       "    <tr>\n",
       "      <th>2</th>\n",
       "      <td>v2.9.0</td>\n",
       "      <td>0</td>\n",
       "      <td>0.074658</td>\n",
       "      <td>11921</td>\n",
       "    </tr>\n",
       "    <tr>\n",
       "      <th>3</th>\n",
       "      <td>v2.9.0</td>\n",
       "      <td>1</td>\n",
       "      <td>0.071304</td>\n",
       "      <td>12033</td>\n",
       "    </tr>\n",
       "    <tr>\n",
       "      <th>4</th>\n",
       "      <td>v3.7.4.0</td>\n",
       "      <td>0</td>\n",
       "      <td>0.059943</td>\n",
       "      <td>4204</td>\n",
       "    </tr>\n",
       "    <tr>\n",
       "      <th>5</th>\n",
       "      <td>v3.7.4.0</td>\n",
       "      <td>1</td>\n",
       "      <td>0.063018</td>\n",
       "      <td>4221</td>\n",
       "    </tr>\n",
       "    <tr>\n",
       "      <th>6</th>\n",
       "      <td>v3.8.0.0</td>\n",
       "      <td>0</td>\n",
       "      <td>0.057604</td>\n",
       "      <td>5694</td>\n",
       "    </tr>\n",
       "    <tr>\n",
       "      <th>7</th>\n",
       "      <td>v3.8.0.0</td>\n",
       "      <td>1</td>\n",
       "      <td>0.062848</td>\n",
       "      <td>6110</td>\n",
       "    </tr>\n",
       "  </tbody>\n",
       "</table>\n",
       "</div>"
      ],
      "text/plain": [
       "    version  experimentVariant  purchase  Unnamed: 0\n",
       "0    v2.8.0                  0  0.000993       41283\n",
       "1    v2.8.0                  1  0.045606       41552\n",
       "2    v2.9.0                  0  0.074658       11921\n",
       "3    v2.9.0                  1  0.071304       12033\n",
       "4  v3.7.4.0                  0  0.059943        4204\n",
       "5  v3.7.4.0                  1  0.063018        4221\n",
       "6  v3.8.0.0                  0  0.057604        5694\n",
       "7  v3.8.0.0                  1  0.062848        6110"
      ]
     },
     "execution_count": 7,
     "metadata": {},
     "output_type": "execute_result"
    }
   ],
   "source": [
    "df.groupby(['version', 'experimentVariant'])\\\n",
    "    .agg({'purchase':'mean', 'Unnamed: 0':'count'})\\\n",
    "    .rename({'purchase':'conversion'})\\\n",
    "    .reset_index()"
   ]
  },
  {
   "cell_type": "markdown",
   "metadata": {},
   "source": [
    "### Уже на данном этапе видно,  где именно причины поломки (version == v2.8.0, experimentVariant==0 )\n"
   ]
  },
  {
   "cell_type": "markdown",
   "metadata": {},
   "source": [
    "### Шаг 3\n",
    "Посчитайте pvalue для каждой версии МП\n",
    "Найдите версии, где pvalue < 0.05\n",
    "Исключите версию с pvalue < 0.05 из основного датафрейма\n",
    "\n",
    "### В качестве статистического метода используем t-test"
   ]
  },
  {
   "cell_type": "code",
   "execution_count": 8,
   "metadata": {},
   "outputs": [
    {
     "data": {
      "text/html": [
       "<div>\n",
       "<style scoped>\n",
       "    .dataframe tbody tr th:only-of-type {\n",
       "        vertical-align: middle;\n",
       "    }\n",
       "\n",
       "    .dataframe tbody tr th {\n",
       "        vertical-align: top;\n",
       "    }\n",
       "\n",
       "    .dataframe thead th {\n",
       "        text-align: right;\n",
       "    }\n",
       "</style>\n",
       "<table border=\"1\" class=\"dataframe\">\n",
       "  <thead>\n",
       "    <tr style=\"text-align: right;\">\n",
       "      <th></th>\n",
       "      <th>version</th>\n",
       "      <th>experimentVariant</th>\n",
       "      <th>purchase</th>\n",
       "      <th>Unnamed: 0</th>\n",
       "    </tr>\n",
       "  </thead>\n",
       "  <tbody>\n",
       "    <tr>\n",
       "      <th>0</th>\n",
       "      <td>v2.8.0</td>\n",
       "      <td>0</td>\n",
       "      <td>0.000993</td>\n",
       "      <td>41283</td>\n",
       "    </tr>\n",
       "    <tr>\n",
       "      <th>1</th>\n",
       "      <td>v2.8.0</td>\n",
       "      <td>1</td>\n",
       "      <td>0.045606</td>\n",
       "      <td>41552</td>\n",
       "    </tr>\n",
       "    <tr>\n",
       "      <th>2</th>\n",
       "      <td>v2.9.0</td>\n",
       "      <td>0</td>\n",
       "      <td>0.074658</td>\n",
       "      <td>11921</td>\n",
       "    </tr>\n",
       "    <tr>\n",
       "      <th>3</th>\n",
       "      <td>v2.9.0</td>\n",
       "      <td>1</td>\n",
       "      <td>0.071304</td>\n",
       "      <td>12033</td>\n",
       "    </tr>\n",
       "    <tr>\n",
       "      <th>4</th>\n",
       "      <td>v3.7.4.0</td>\n",
       "      <td>0</td>\n",
       "      <td>0.059943</td>\n",
       "      <td>4204</td>\n",
       "    </tr>\n",
       "    <tr>\n",
       "      <th>5</th>\n",
       "      <td>v3.7.4.0</td>\n",
       "      <td>1</td>\n",
       "      <td>0.063018</td>\n",
       "      <td>4221</td>\n",
       "    </tr>\n",
       "    <tr>\n",
       "      <th>6</th>\n",
       "      <td>v3.8.0.0</td>\n",
       "      <td>0</td>\n",
       "      <td>0.057604</td>\n",
       "      <td>5694</td>\n",
       "    </tr>\n",
       "    <tr>\n",
       "      <th>7</th>\n",
       "      <td>v3.8.0.0</td>\n",
       "      <td>1</td>\n",
       "      <td>0.062848</td>\n",
       "      <td>6110</td>\n",
       "    </tr>\n",
       "  </tbody>\n",
       "</table>\n",
       "</div>"
      ],
      "text/plain": [
       "    version  experimentVariant  purchase  Unnamed: 0\n",
       "0    v2.8.0                  0  0.000993       41283\n",
       "1    v2.8.0                  1  0.045606       41552\n",
       "2    v2.9.0                  0  0.074658       11921\n",
       "3    v2.9.0                  1  0.071304       12033\n",
       "4  v3.7.4.0                  0  0.059943        4204\n",
       "5  v3.7.4.0                  1  0.063018        4221\n",
       "6  v3.8.0.0                  0  0.057604        5694\n",
       "7  v3.8.0.0                  1  0.062848        6110"
      ]
     },
     "execution_count": 8,
     "metadata": {},
     "output_type": "execute_result"
    }
   ],
   "source": [
    "df.groupby(['version', 'experimentVariant'])\\\n",
    "    .agg({'purchase':'mean', 'Unnamed: 0':'count'})\\\n",
    "    .rename({'purchase':'conversion'})\\\n",
    "    .reset_index()"
   ]
  },
  {
   "cell_type": "code",
   "execution_count": 9,
   "metadata": {},
   "outputs": [
    {
     "data": {
      "text/plain": [
       "Ttest_indResult(statistic=1.1956188950206779, pvalue=0.23186933664059722)"
      ]
     },
     "execution_count": 9,
     "metadata": {},
     "output_type": "execute_result"
    }
   ],
   "source": [
    "stats.ttest_ind(df[(df.version=='v3.8.0.0') &(df.experimentVariant==1)]['purchase'],\\\n",
    "                df[(df.version=='v3.8.0.0') &(df.experimentVariant==0)]['purchase'])"
   ]
  },
  {
   "cell_type": "code",
   "execution_count": 10,
   "metadata": {},
   "outputs": [
    {
     "data": {
      "text/plain": [
       "Ttest_indResult(statistic=0.5874925850487471, pvalue=0.5568886771079735)"
      ]
     },
     "execution_count": 10,
     "metadata": {},
     "output_type": "execute_result"
    }
   ],
   "source": [
    "stats.ttest_ind(df[(df.version=='v3.7.4.0') &(df.experimentVariant==1)]['purchase'],\\\n",
    "                df[(df.version=='v3.7.4.0') &(df.experimentVariant==0)]['purchase'])"
   ]
  },
  {
   "cell_type": "code",
   "execution_count": 11,
   "metadata": {},
   "outputs": [
    {
     "data": {
      "text/plain": [
       "Ttest_indResult(statistic=-0.9979597634962479, pvalue=0.31830895167207446)"
      ]
     },
     "execution_count": 11,
     "metadata": {},
     "output_type": "execute_result"
    }
   ],
   "source": [
    "stats.ttest_ind(df[(df.version=='v2.9.0') &(df.experimentVariant==1)]['purchase'],\\\n",
    "                df[(df.version=='v2.9.0') &(df.experimentVariant==0)]['purchase'])"
   ]
  },
  {
   "cell_type": "code",
   "execution_count": 12,
   "metadata": {
    "scrolled": true
   },
   "outputs": [
    {
     "data": {
      "text/plain": [
       "Ttest_indResult(statistic=42.963540840360324, pvalue=0.0)"
      ]
     },
     "execution_count": 12,
     "metadata": {},
     "output_type": "execute_result"
    }
   ],
   "source": [
    "stats.ttest_ind(df[(df.version=='v2.8.0') &(df.experimentVariant==1)]['purchase'],\\\n",
    "                df[(df.version=='v2.8.0') &(df.experimentVariant==0)]['purchase'])"
   ]
  },
  {
   "cell_type": "markdown",
   "metadata": {},
   "source": [
    "### pvalue=0.0, это то, что мы искали"
   ]
  },
  {
   "cell_type": "markdown",
   "metadata": {},
   "source": [
    "### Шаг 4\n",
    "Произведем повторные расчёты FPR"
   ]
  },
  {
   "cell_type": "code",
   "execution_count": 13,
   "metadata": {},
   "outputs": [
    {
     "data": {
      "application/vnd.jupyter.widget-view+json": {
       "model_id": "f8d80706af9844449aaa5b6c449213ae",
       "version_major": 2,
       "version_minor": 0
      },
      "text/plain": [
       "HBox(children=(FloatProgress(value=0.0, max=1000.0), HTML(value='')))"
      ]
     },
     "metadata": {},
     "output_type": "display_data"
    },
    {
     "name": "stdout",
     "output_type": "stream",
     "text": [
      "\n"
     ]
    },
    {
     "data": {
      "image/png": "[encoded data removed]",
      "text/plain": [
       "<Figure size 432x288 with 1 Axes>"
      ]
     },
     "metadata": {},
     "output_type": "display_data"
    },
    {
     "data": {
      "text/plain": [
       "0.049"
      ]
     },
     "execution_count": 13,
     "metadata": {},
     "output_type": "execute_result"
    }
   ],
   "source": [
    "\n",
    "# Запуск  A/A теста\n",
    "simulations = 1000\n",
    "n_s = 1000\n",
    "res = []\n",
    "for i in tqdm(range(simulations)):\n",
    "    s1 = df[(df.experimentVariant == 1) & (df.version != 'v2.8.0')]['purchase'].sample(n_s, replace = False).values\n",
    "    s2 = df[(df.experimentVariant == 0) & (df.version != 'v2.8.0')]['purchase'].sample(n_s, replace = False).values\n",
    "    res.append(stats.ttest_ind(s1, s2, equal_var = False)[1]) # сохраняем pvalue\n",
    "\n",
    "plt.hist(res, bins = 50)\n",
    "plt.style.use('ggplot')\n",
    "plt.xlabel('pvalues')\n",
    "plt.ylabel('frequency')\n",
    "plt.title(\"Histogram of ttest A/A simulations between experimentVariants\")\n",
    "plt.show()\n",
    "\n",
    "# Проверяем, что количество ложноположительных случаев не превышает альфа\n",
    "sum(np.array(res) <0.05) / simulations"
   ]
  },
  {
   "cell_type": "markdown",
   "metadata": {},
   "source": [
    "### Шаг 5\n",
    "Вы находитесь здесь : Поломка найдена! \n",
    "\n",
    "### Шаг 6. Поговорим о вечном\n",
    "\n",
    "Корректно ли работает система сплитования? \n",
    "- Нет, поломка находится в версии \"v2.8.0\" в эксперементальной группе \"0\" \n",
    "\n",
    "Завышенный FPR / Техническая реализация\n",
    "    Основные причины кроются в сломанном сплит-алгоритме.\n",
    "    Причины необходимо искать на стороне, где реализован скрипт и его запуск.\n",
    "    \n",
    "    \n",
    " К сожалению, для более глубокой оценки данных недостаточно, причиной может быть что угодно: \n",
    "- Долгое ожидание ответа сервера по присвоению id эксперимента и сплита\n",
    "- Приоритет той или иной группе\n",
    "- Не на всех страницах или кейсах реализован сплит-алгоритм\n",
    "- Банально «сломан» рандом (например, неправильно посчитан остаток от деления по сумме хеша)\n",
    "- Поиск возможной причины\n",
    "- Дисбаланс в группах по описательным признакам\n",
    "\n",
    "\n",
    "### Причины необходимо искать на стороне, где реализован скрипт и его запуск\n"
   ]
  }
 ],
 "metadata": {
  "kernelspec": {
   "display_name": "Python 3",
   "language": "python",
   "name": "python3"
  },
  "language_info": {
   "codemirror_mode": {
    "name": "ipython",
    "version": 3
   },
   "file_extension": ".py",
   "mimetype": "text/x-python",
   "name": "python",
   "nbconvert_exporter": "python",
   "pygments_lexer": "ipython3",
   "version": "3.7.3"
  }
 },
 "nbformat": 4,
 "nbformat_minor": 4
}
